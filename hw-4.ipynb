{
 "cells": [
  {
   "cell_type": "code",
   "execution_count": null,
   "metadata": {},
   "outputs": [],
   "source": [
    "%matplotlib inline\n",
    "import numpy as np\n",
    "import matplotlib.pyplot as plt"
   ]
  },
  {
   "cell_type": "markdown",
   "metadata": {},
   "source": [
    "# Trapezoidal Integration"
   ]
  },
  {
   "cell_type": "code",
   "execution_count": null,
   "metadata": {},
   "outputs": [],
   "source": [
    "def func(x):\n",
    "    a = -2\n",
    "    b = 10\n",
    "    return np.exp(a*x) * np.cos(b*x)"
   ]
  },
  {
   "cell_type": "markdown",
   "metadata": {},
   "source": [
    "## Define a function for the core of this method"
   ]
  },
  {
   "cell_type": "code",
   "execution_count": null,
   "metadata": {},
   "outputs": [],
   "source": [
    "def trapezoid_core(f,x,h):\n",
    "    return 0.5*h*(f(x+h) + f(x)) \n"
   ]
  },
  {
   "cell_type": "code",
   "execution_count": null,
   "metadata": {},
   "outputs": [],
   "source": [
    "def trapezoidal_integration(f,a,b,N):\n",
    "    #f == function\n",
    "    #a == lower limit of integration\n",
    "    #b == upper limit of integration\n",
    "    #N == Number of subdivisions in range of integration\n",
    "    \n",
    "    #create x values on which to perform trapezoidal integration\n",
    "    x = np.linspace(0, np.pi ,N)\n",
    "    h = x[1]-x[0]            #define h values\n",
    "    \n",
    "    #define value of the integral\n",
    "    Fint = 0.0\n",
    "    \n",
    "    #iteration counter\n",
    "    y = 0\n",
    "    \n",
    "    #perform the integral \n",
    "    for i in range (0,len(x)-1,1):\n",
    "        Fint += trapezoid_core(f,x[i],h)\n",
    "        y += 1   #add an iteration\n",
    "        \n",
    "    print(\"Found in {} iterations\" .format(y))   \n",
    "    #return the answer\n",
    "    return Fint"
   ]
  },
  {
   "cell_type": "code",
   "execution_count": null,
   "metadata": {},
   "outputs": [],
   "source": [
    "print(\"trapezoid\")\n",
    "print(trapezoidal_integration(func,0,np.pi,10))"
   ]
  },
  {
   "cell_type": "markdown",
   "metadata": {},
   "source": [
    "# Simpson's method\n",
    "## First, define the core"
   ]
  },
  {
   "cell_type": "code",
   "execution_count": null,
   "metadata": {},
   "outputs": [],
   "source": [
    "def simpson_core(f,x,h):\n",
    "    return h*( f(x) + 4*f(x+h) + f(x+2*h))/3"
   ]
  },
  {
   "cell_type": "markdown",
   "metadata": {},
   "source": [
    "## Define wrapper function for Simpson's Method"
   ]
  },
  {
   "cell_type": "code",
   "execution_count": null,
   "metadata": {},
   "outputs": [],
   "source": [
    "def simpsons_method(f,a,b,N):\n",
    "    #variables mean same as they did in trapezoidal\n",
    "    \n",
    "    #define x values to perform over\n",
    "    x = np.linspace(0,np.pi,N)\n",
    "    h = x[1]-x[0]\n",
    "    \n",
    "    #set initial integral value\n",
    "    Fint = 0.0\n",
    "    \n",
    "    #Iteration counter\n",
    "    y = 0\n",
    "    \n",
    "    #perform integral using simpson's\n",
    "    for i in range(0,len(x)-2,2):\n",
    "        Fint += simpson_core(f,x[i],h)\n",
    "        y += 1\n",
    "    print(\"Found in {} iterations\" .format(y))\n",
    "    \n",
    "    #apply simpson's rule over the last interval if N is even\n",
    "    if((N%2)==0):\n",
    "        Fint += simpson_core(f,x[-2],0.5*h)\n",
    "        \n",
    "    return Fint"
   ]
  },
  {
   "cell_type": "code",
   "execution_count": null,
   "metadata": {},
   "outputs": [],
   "source": [
    "print(\"simpson's method\")\n",
    "print(simpsons_method(func,0,np.pi,10))"
   ]
  },
  {
   "cell_type": "markdown",
   "metadata": {},
   "source": [
    "# Romberg Time\n",
    "\n",
    "## Start with a core function"
   ]
  },
  {
   "cell_type": "code",
   "execution_count": null,
   "metadata": {},
   "outputs": [],
   "source": [
    "def romberg_core(f,a,b,i):\n",
    "    \n",
    "    #need b-a\n",
    "    h = b-a\n",
    "    \n",
    "    #and increment between new function evaluations\n",
    "    dh = h/2.**(i)\n",
    "    \n",
    "    #we need the cofactor\n",
    "    K = h/2.**(i+1)\n",
    "    \n",
    "    #and need the function evaluation\n",
    "    M = 0.0\n",
    "    for j in range(2**i):\n",
    "        M += f(a + 0.5*dh + j*dh)\n",
    "        \n",
    "    #return the answer\n",
    "    return K*M"
   ]
  },
  {
   "cell_type": "markdown",
   "metadata": {},
   "source": [
    "## Follow up with  the wrapper"
   ]
  },
  {
   "cell_type": "code",
   "execution_count": null,
   "metadata": {},
   "outputs": [],
   "source": [
    "def romberg_integration(f,a,b,tol):\n",
    "    #define an iteration vatiable\n",
    "    i = 0\n",
    "    \n",
    "    #define max number of iterations\n",
    "    imax = 1000\n",
    "    \n",
    "    #define an error estimate (large value)\n",
    "    delta = 100.0*np.fabs(tol)\n",
    "    \n",
    "    #set an array of interal answers\n",
    "    I = np.zeros(imax,dtype=float)\n",
    "    \n",
    "    #get the zeroth romberg iteration\n",
    "    I[0] = 0.5*(b-a)*(f(a) + f(b))\n",
    "    \n",
    "    #iterate by i\n",
    "    i += 1\n",
    "    \n",
    "    while(delta>tol):\n",
    "        #find this romberg integration\n",
    "        I[i] = 0.5*I[i-1] + romberg_core(f,a,b,i)\n",
    "        \n",
    "        #compute the new fractional error estimate\n",
    "        delta = np.fabs( (I[i]-I[i-1])/I[i])\n",
    "        \n",
    "        print(i,I[i],I[i-1],delta)\n",
    "        if(delta>tol):\n",
    "            \n",
    "            #iterate\n",
    "            i += 1\n",
    "            \n",
    "            #if we've reached the maximum iterations\n",
    "            if(i>imax):\n",
    "                print(\"max iterations reached.\")\n",
    "                raise StopIteration('Stopping iterations after ',i)\n",
    "                \n",
    "    return I[i]\n",
    "    "
   ]
  },
  {
   "cell_type": "markdown",
   "metadata": {},
   "source": []
  },
  {
   "cell_type": "code",
   "execution_count": null,
   "metadata": {},
   "outputs": [
    {
     "name": "stdout",
     "output_type": "stream",
     "text": [
      "25 0.01919488234392562 0.019194907817322197 1.3270931344985499e-06\n"
     ]
    }
   ],
   "source": [
    "\n",
    "print(\"Romberg\")\n",
    "tolerance = 1.0e-6\n",
    "RI = romberg_integration(func,0,np.pi,tolerance)\n",
    "print(RI, (RI-Answer)/Answer, tolerance)"
   ]
  },
  {
   "cell_type": "code",
   "execution_count": null,
   "metadata": {},
   "outputs": [],
   "source": []
  }
 ],
 "metadata": {
  "kernelspec": {
   "display_name": "Python 3",
   "language": "python",
   "name": "python3"
  },
  "language_info": {
   "codemirror_mode": {
    "name": "ipython",
    "version": 3
   },
   "file_extension": ".py",
   "mimetype": "text/x-python",
   "name": "python",
   "nbconvert_exporter": "python",
   "pygments_lexer": "ipython3",
   "version": "3.7.0"
  }
 },
 "nbformat": 4,
 "nbformat_minor": 2
}
